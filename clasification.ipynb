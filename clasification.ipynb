{
 "cells": [
  {
   "cell_type": "code",
   "execution_count": 7,
   "id": "c065d915-9286-4c0f-86e6-95061df60f93",
   "metadata": {},
   "outputs": [
    {
     "name": "stdout",
     "output_type": "stream",
     "text": [
      "jumlah data: 1797\n"
     ]
    },
    {
     "data": {
      "image/png": "[encoded data removed]",
      "text/plain": [
       "<Figure size 800x200 with 4 Axes>"
      ]
     },
     "metadata": {},
     "output_type": "display_data"
    },
    {
     "data": {
      "image/png": "[encoded data removed]",
      "text/plain": [
       "<Figure size 800x200 with 4 Axes>"
      ]
     },
     "metadata": {},
     "output_type": "display_data"
    }
   ],
   "source": [
    "import matplotlib.pyplot as plt\n",
    "from sklearn import datasets, svm, metrics\n",
    "from sklearn. model_selection import train_test_split\n",
    "\n",
    "#1. load dataset digits\n",
    "digits = datasets.load_digits()\n",
    "print(\"jumlah data:\", len(digits.images))\n",
    "\n",
    "# 2. lihat 4 gambar pertama \n",
    "fig, axes = plt.subplots(1,4, figsize=(8,2))\n",
    "for ax, image, label in zip(axes, digits.images[:4],digits.target[:4]):\n",
    "    ax.imshow(image, cmap=\"gray\")\n",
    "    ax.set_title(f\"label: {label}\")\n",
    "    ax.axis(\"off\")\n",
    "plt.show()\n",
    "\n",
    "# 3 ubah gambar 8x8 piksel jadi vektor 64 elemen\n",
    "n_samples = len(digits.images)\n",
    "data = digits.images.reshape((n_samples, -1))\n",
    "\n",
    "# 4. Bagi data: training (50%) dan testing 50%\n",
    "X_train, X_test, y_train, y_test = train_test_split(\n",
    "    data, digits.target, test_size=0.5, shuffle=False\n",
    ")\n",
    "\n",
    "# 5. Buat dan latih model SVM\n",
    "clf = svm.SVC(gamma=0.001)\n",
    "clf.fit(X_train, y_train)\n",
    "\n",
    "# 6. Prediksi data test \n",
    "predicted = clf.predict(X_test)\n",
    "# 7. Lihat hasil prediksi untuk 4 sampel\n",
    "fig, axes = plt.subplots(1,4, figsize=(8,2))\n",
    "for ax, image, pred in zip(axes, X_test[:4], predicted[:4]):\n",
    "    ax.imshow(image.reshape(8,8), cmap=\"gray\")\n",
    "    ax.set_title(f\"Pred: {pred}\")\n",
    "    ax.axis(\"off\")\n",
    "plt.show()\n"
   ]
  },
  {
   "cell_type": "code",
   "execution_count": null,
   "id": "bddbf94f-48c5-403e-9e0b-b13398f856b8",
   "metadata": {},
   "outputs": [],
   "source": [
    "fig"
   ]
  }
 ],
 "metadata": {
  "kernelspec": {
   "display_name": "Python [conda env:base] *",
   "language": "python",
   "name": "conda-base-py"
  },
  "language_info": {
   "codemirror_mode": {
    "name": "ipython",
    "version": 3
   },
   "file_extension": ".py",
   "mimetype": "text/x-python",
   "name": "python",
   "nbconvert_exporter": "python",
   "pygments_lexer": "ipython3",
   "version": "3.12.7"
  }
 },
 "nbformat": 4,
 "nbformat_minor": 5
}
